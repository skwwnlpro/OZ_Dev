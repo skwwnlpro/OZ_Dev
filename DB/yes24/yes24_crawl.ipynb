{
 "cells": [
  {
   "cell_type": "code",
   "execution_count": 1,
   "metadata": {},
   "outputs": [
    {
     "data": {
      "text/plain": [
       "'C:\\\\Users\\\\Pro\\\\.wdm\\\\drivers\\\\chromedriver\\\\win64\\\\126.0.6478.182\\\\chromedriver-win32/chromedriver.exe'"
      ]
     },
     "execution_count": 1,
     "metadata": {},
     "output_type": "execute_result"
    }
   ],
   "source": [
    "from webdriver_manager.chrome import ChromeDriverManager\n",
    "ChromeDriverManager().install()"
   ]
  },
  {
   "cell_type": "code",
   "execution_count": 8,
   "metadata": {},
   "outputs": [],
   "source": [
    "from selenium import webdriver\n",
    "browser = webdriver.Chrome()"
   ]
  },
  {
   "cell_type": "code",
   "execution_count": 7,
   "metadata": {},
   "outputs": [
    {
     "ename": "NoSuchWindowException",
     "evalue": "Message: no such window: target window already closed\nfrom unknown error: web view not found\n  (Session info: chrome=126.0.6478.182)\nStacktrace:\n\tGetHandleVerifier [0x00007FF7EDACEEB2+31554]\n\t(No symbol) [0x00007FF7EDA47EE9]\n\t(No symbol) [0x00007FF7ED90872A]\n\t(No symbol) [0x00007FF7ED8DD995]\n\t(No symbol) [0x00007FF7ED9844D7]\n\t(No symbol) [0x00007FF7ED99C051]\n\t(No symbol) [0x00007FF7ED97CDD3]\n\t(No symbol) [0x00007FF7ED94A33B]\n\t(No symbol) [0x00007FF7ED94AED1]\n\tGetHandleVerifier [0x00007FF7EDDD8B2D+3217341]\n\tGetHandleVerifier [0x00007FF7EDE25AF3+3532675]\n\tGetHandleVerifier [0x00007FF7EDE1B0F0+3489152]\n\tGetHandleVerifier [0x00007FF7EDB7E786+750614]\n\t(No symbol) [0x00007FF7EDA5376F]\n\t(No symbol) [0x00007FF7EDA4EB24]\n\t(No symbol) [0x00007FF7EDA4ECB2]\n\t(No symbol) [0x00007FF7EDA3E17F]\n\tBaseThreadInitThunk [0x00007FFCA61A257D+29]\n\tRtlUserThreadStart [0x00007FFCA82EAF28+40]\n",
     "output_type": "error",
     "traceback": [
      "\u001b[1;31m---------------------------------------------------------------------------\u001b[0m",
      "\u001b[1;31mNoSuchWindowException\u001b[0m                     Traceback (most recent call last)",
      "Cell \u001b[1;32mIn[7], line 2\u001b[0m\n\u001b[0;32m      1\u001b[0m url \u001b[38;5;241m=\u001b[39m \u001b[38;5;124m'\u001b[39m\u001b[38;5;124mhttps://www.google.com\u001b[39m\u001b[38;5;124m'\u001b[39m\n\u001b[1;32m----> 2\u001b[0m \u001b[43mbrowser\u001b[49m\u001b[38;5;241;43m.\u001b[39;49m\u001b[43mget\u001b[49m\u001b[43m(\u001b[49m\u001b[43murl\u001b[49m\u001b[43m)\u001b[49m\n",
      "File \u001b[1;32mc:\\Users\\Pro\\Desktop\\Dev\\.venv\\Lib\\site-packages\\selenium\\webdriver\\remote\\webdriver.py:363\u001b[0m, in \u001b[0;36mWebDriver.get\u001b[1;34m(self, url)\u001b[0m\n\u001b[0;32m    361\u001b[0m \u001b[38;5;28;01mdef\u001b[39;00m \u001b[38;5;21mget\u001b[39m(\u001b[38;5;28mself\u001b[39m, url: \u001b[38;5;28mstr\u001b[39m) \u001b[38;5;241m-\u001b[39m\u001b[38;5;241m>\u001b[39m \u001b[38;5;28;01mNone\u001b[39;00m:\n\u001b[0;32m    362\u001b[0m \u001b[38;5;250m    \u001b[39m\u001b[38;5;124;03m\"\"\"Loads a web page in the current browser session.\"\"\"\u001b[39;00m\n\u001b[1;32m--> 363\u001b[0m     \u001b[38;5;28;43mself\u001b[39;49m\u001b[38;5;241;43m.\u001b[39;49m\u001b[43mexecute\u001b[49m\u001b[43m(\u001b[49m\u001b[43mCommand\u001b[49m\u001b[38;5;241;43m.\u001b[39;49m\u001b[43mGET\u001b[49m\u001b[43m,\u001b[49m\u001b[43m \u001b[49m\u001b[43m{\u001b[49m\u001b[38;5;124;43m\"\u001b[39;49m\u001b[38;5;124;43murl\u001b[39;49m\u001b[38;5;124;43m\"\u001b[39;49m\u001b[43m:\u001b[49m\u001b[43m \u001b[49m\u001b[43murl\u001b[49m\u001b[43m}\u001b[49m\u001b[43m)\u001b[49m\n",
      "File \u001b[1;32mc:\\Users\\Pro\\Desktop\\Dev\\.venv\\Lib\\site-packages\\selenium\\webdriver\\remote\\webdriver.py:354\u001b[0m, in \u001b[0;36mWebDriver.execute\u001b[1;34m(self, driver_command, params)\u001b[0m\n\u001b[0;32m    352\u001b[0m response \u001b[38;5;241m=\u001b[39m \u001b[38;5;28mself\u001b[39m\u001b[38;5;241m.\u001b[39mcommand_executor\u001b[38;5;241m.\u001b[39mexecute(driver_command, params)\n\u001b[0;32m    353\u001b[0m \u001b[38;5;28;01mif\u001b[39;00m response:\n\u001b[1;32m--> 354\u001b[0m     \u001b[38;5;28;43mself\u001b[39;49m\u001b[38;5;241;43m.\u001b[39;49m\u001b[43merror_handler\u001b[49m\u001b[38;5;241;43m.\u001b[39;49m\u001b[43mcheck_response\u001b[49m\u001b[43m(\u001b[49m\u001b[43mresponse\u001b[49m\u001b[43m)\u001b[49m\n\u001b[0;32m    355\u001b[0m     response[\u001b[38;5;124m\"\u001b[39m\u001b[38;5;124mvalue\u001b[39m\u001b[38;5;124m\"\u001b[39m] \u001b[38;5;241m=\u001b[39m \u001b[38;5;28mself\u001b[39m\u001b[38;5;241m.\u001b[39m_unwrap_value(response\u001b[38;5;241m.\u001b[39mget(\u001b[38;5;124m\"\u001b[39m\u001b[38;5;124mvalue\u001b[39m\u001b[38;5;124m\"\u001b[39m, \u001b[38;5;28;01mNone\u001b[39;00m))\n\u001b[0;32m    356\u001b[0m     \u001b[38;5;28;01mreturn\u001b[39;00m response\n",
      "File \u001b[1;32mc:\\Users\\Pro\\Desktop\\Dev\\.venv\\Lib\\site-packages\\selenium\\webdriver\\remote\\errorhandler.py:229\u001b[0m, in \u001b[0;36mErrorHandler.check_response\u001b[1;34m(self, response)\u001b[0m\n\u001b[0;32m    227\u001b[0m         alert_text \u001b[38;5;241m=\u001b[39m value[\u001b[38;5;124m\"\u001b[39m\u001b[38;5;124malert\u001b[39m\u001b[38;5;124m\"\u001b[39m]\u001b[38;5;241m.\u001b[39mget(\u001b[38;5;124m\"\u001b[39m\u001b[38;5;124mtext\u001b[39m\u001b[38;5;124m\"\u001b[39m)\n\u001b[0;32m    228\u001b[0m     \u001b[38;5;28;01mraise\u001b[39;00m exception_class(message, screen, stacktrace, alert_text)  \u001b[38;5;66;03m# type: ignore[call-arg]  # mypy is not smart enough here\u001b[39;00m\n\u001b[1;32m--> 229\u001b[0m \u001b[38;5;28;01mraise\u001b[39;00m exception_class(message, screen, stacktrace)\n",
      "\u001b[1;31mNoSuchWindowException\u001b[0m: Message: no such window: target window already closed\nfrom unknown error: web view not found\n  (Session info: chrome=126.0.6478.182)\nStacktrace:\n\tGetHandleVerifier [0x00007FF7EDACEEB2+31554]\n\t(No symbol) [0x00007FF7EDA47EE9]\n\t(No symbol) [0x00007FF7ED90872A]\n\t(No symbol) [0x00007FF7ED8DD995]\n\t(No symbol) [0x00007FF7ED9844D7]\n\t(No symbol) [0x00007FF7ED99C051]\n\t(No symbol) [0x00007FF7ED97CDD3]\n\t(No symbol) [0x00007FF7ED94A33B]\n\t(No symbol) [0x00007FF7ED94AED1]\n\tGetHandleVerifier [0x00007FF7EDDD8B2D+3217341]\n\tGetHandleVerifier [0x00007FF7EDE25AF3+3532675]\n\tGetHandleVerifier [0x00007FF7EDE1B0F0+3489152]\n\tGetHandleVerifier [0x00007FF7EDB7E786+750614]\n\t(No symbol) [0x00007FF7EDA5376F]\n\t(No symbol) [0x00007FF7EDA4EB24]\n\t(No symbol) [0x00007FF7EDA4ECB2]\n\t(No symbol) [0x00007FF7EDA3E17F]\n\tBaseThreadInitThunk [0x00007FFCA61A257D+29]\n\tRtlUserThreadStart [0x00007FFCA82EAF28+40]\n"
     ]
    }
   ],
   "source": [
    "url = 'https://www.google.com'\n",
    "browser.get(url)"
   ]
  },
  {
   "cell_type": "code",
   "execution_count": 4,
   "metadata": {},
   "outputs": [
    {
     "data": {
      "text/plain": [
       "'대한민국'"
      ]
     },
     "execution_count": 4,
     "metadata": {},
     "output_type": "execute_result"
    }
   ],
   "source": [
    "from selenium.webdriver.common.by import By\n",
    "\n",
    "browser.find_element(By.CLASS_NAME, \"uU7dJb\").text\n",
    "\n",
    "# <div class=\"uU7dJb\">대한민국</div>"
   ]
  },
  {
   "cell_type": "code",
   "execution_count": 5,
   "metadata": {},
   "outputs": [
    {
     "ename": "NoSuchWindowException",
     "evalue": "Message: no such window: target window already closed\nfrom unknown error: web view not found\n  (Session info: chrome=126.0.6478.182)\nStacktrace:\n\tGetHandleVerifier [0x00007FF7EDACEEB2+31554]\n\t(No symbol) [0x00007FF7EDA47EE9]\n\t(No symbol) [0x00007FF7ED90872A]\n\t(No symbol) [0x00007FF7ED8DD995]\n\t(No symbol) [0x00007FF7ED9844D7]\n\t(No symbol) [0x00007FF7ED99C051]\n\t(No symbol) [0x00007FF7ED97CDD3]\n\t(No symbol) [0x00007FF7ED94A33B]\n\t(No symbol) [0x00007FF7ED94AED1]\n\tGetHandleVerifier [0x00007FF7EDDD8B2D+3217341]\n\tGetHandleVerifier [0x00007FF7EDE25AF3+3532675]\n\tGetHandleVerifier [0x00007FF7EDE1B0F0+3489152]\n\tGetHandleVerifier [0x00007FF7EDB7E786+750614]\n\t(No symbol) [0x00007FF7EDA5376F]\n\t(No symbol) [0x00007FF7EDA4EB24]\n\t(No symbol) [0x00007FF7EDA4ECB2]\n\t(No symbol) [0x00007FF7EDA3E17F]\n\tBaseThreadInitThunk [0x00007FFCA61A257D+29]\n\tRtlUserThreadStart [0x00007FFCA82EAF28+40]\n",
     "output_type": "error",
     "traceback": [
      "\u001b[1;31m---------------------------------------------------------------------------\u001b[0m",
      "\u001b[1;31mNoSuchWindowException\u001b[0m                     Traceback (most recent call last)",
      "Cell \u001b[1;32mIn[5], line 2\u001b[0m\n\u001b[0;32m      1\u001b[0m url \u001b[38;5;241m=\u001b[39m \u001b[38;5;124m\"\u001b[39m\u001b[38;5;124mhttps://www.yes24.com/Product/Category/BestSeller?categoryNumber=001&pageNumber=1&pageSize=24\u001b[39m\u001b[38;5;124m\"\u001b[39m\n\u001b[1;32m----> 2\u001b[0m \u001b[43mbrowser\u001b[49m\u001b[38;5;241;43m.\u001b[39;49m\u001b[43mget\u001b[49m\u001b[43m(\u001b[49m\u001b[43murl\u001b[49m\u001b[43m)\u001b[49m\n",
      "File \u001b[1;32mc:\\Users\\Pro\\Desktop\\Dev\\.venv\\Lib\\site-packages\\selenium\\webdriver\\remote\\webdriver.py:363\u001b[0m, in \u001b[0;36mWebDriver.get\u001b[1;34m(self, url)\u001b[0m\n\u001b[0;32m    361\u001b[0m \u001b[38;5;28;01mdef\u001b[39;00m \u001b[38;5;21mget\u001b[39m(\u001b[38;5;28mself\u001b[39m, url: \u001b[38;5;28mstr\u001b[39m) \u001b[38;5;241m-\u001b[39m\u001b[38;5;241m>\u001b[39m \u001b[38;5;28;01mNone\u001b[39;00m:\n\u001b[0;32m    362\u001b[0m \u001b[38;5;250m    \u001b[39m\u001b[38;5;124;03m\"\"\"Loads a web page in the current browser session.\"\"\"\u001b[39;00m\n\u001b[1;32m--> 363\u001b[0m     \u001b[38;5;28;43mself\u001b[39;49m\u001b[38;5;241;43m.\u001b[39;49m\u001b[43mexecute\u001b[49m\u001b[43m(\u001b[49m\u001b[43mCommand\u001b[49m\u001b[38;5;241;43m.\u001b[39;49m\u001b[43mGET\u001b[49m\u001b[43m,\u001b[49m\u001b[43m \u001b[49m\u001b[43m{\u001b[49m\u001b[38;5;124;43m\"\u001b[39;49m\u001b[38;5;124;43murl\u001b[39;49m\u001b[38;5;124;43m\"\u001b[39;49m\u001b[43m:\u001b[49m\u001b[43m \u001b[49m\u001b[43murl\u001b[49m\u001b[43m}\u001b[49m\u001b[43m)\u001b[49m\n",
      "File \u001b[1;32mc:\\Users\\Pro\\Desktop\\Dev\\.venv\\Lib\\site-packages\\selenium\\webdriver\\remote\\webdriver.py:354\u001b[0m, in \u001b[0;36mWebDriver.execute\u001b[1;34m(self, driver_command, params)\u001b[0m\n\u001b[0;32m    352\u001b[0m response \u001b[38;5;241m=\u001b[39m \u001b[38;5;28mself\u001b[39m\u001b[38;5;241m.\u001b[39mcommand_executor\u001b[38;5;241m.\u001b[39mexecute(driver_command, params)\n\u001b[0;32m    353\u001b[0m \u001b[38;5;28;01mif\u001b[39;00m response:\n\u001b[1;32m--> 354\u001b[0m     \u001b[38;5;28;43mself\u001b[39;49m\u001b[38;5;241;43m.\u001b[39;49m\u001b[43merror_handler\u001b[49m\u001b[38;5;241;43m.\u001b[39;49m\u001b[43mcheck_response\u001b[49m\u001b[43m(\u001b[49m\u001b[43mresponse\u001b[49m\u001b[43m)\u001b[49m\n\u001b[0;32m    355\u001b[0m     response[\u001b[38;5;124m\"\u001b[39m\u001b[38;5;124mvalue\u001b[39m\u001b[38;5;124m\"\u001b[39m] \u001b[38;5;241m=\u001b[39m \u001b[38;5;28mself\u001b[39m\u001b[38;5;241m.\u001b[39m_unwrap_value(response\u001b[38;5;241m.\u001b[39mget(\u001b[38;5;124m\"\u001b[39m\u001b[38;5;124mvalue\u001b[39m\u001b[38;5;124m\"\u001b[39m, \u001b[38;5;28;01mNone\u001b[39;00m))\n\u001b[0;32m    356\u001b[0m     \u001b[38;5;28;01mreturn\u001b[39;00m response\n",
      "File \u001b[1;32mc:\\Users\\Pro\\Desktop\\Dev\\.venv\\Lib\\site-packages\\selenium\\webdriver\\remote\\errorhandler.py:229\u001b[0m, in \u001b[0;36mErrorHandler.check_response\u001b[1;34m(self, response)\u001b[0m\n\u001b[0;32m    227\u001b[0m         alert_text \u001b[38;5;241m=\u001b[39m value[\u001b[38;5;124m\"\u001b[39m\u001b[38;5;124malert\u001b[39m\u001b[38;5;124m\"\u001b[39m]\u001b[38;5;241m.\u001b[39mget(\u001b[38;5;124m\"\u001b[39m\u001b[38;5;124mtext\u001b[39m\u001b[38;5;124m\"\u001b[39m)\n\u001b[0;32m    228\u001b[0m     \u001b[38;5;28;01mraise\u001b[39;00m exception_class(message, screen, stacktrace, alert_text)  \u001b[38;5;66;03m# type: ignore[call-arg]  # mypy is not smart enough here\u001b[39;00m\n\u001b[1;32m--> 229\u001b[0m \u001b[38;5;28;01mraise\u001b[39;00m exception_class(message, screen, stacktrace)\n",
      "\u001b[1;31mNoSuchWindowException\u001b[0m: Message: no such window: target window already closed\nfrom unknown error: web view not found\n  (Session info: chrome=126.0.6478.182)\nStacktrace:\n\tGetHandleVerifier [0x00007FF7EDACEEB2+31554]\n\t(No symbol) [0x00007FF7EDA47EE9]\n\t(No symbol) [0x00007FF7ED90872A]\n\t(No symbol) [0x00007FF7ED8DD995]\n\t(No symbol) [0x00007FF7ED9844D7]\n\t(No symbol) [0x00007FF7ED99C051]\n\t(No symbol) [0x00007FF7ED97CDD3]\n\t(No symbol) [0x00007FF7ED94A33B]\n\t(No symbol) [0x00007FF7ED94AED1]\n\tGetHandleVerifier [0x00007FF7EDDD8B2D+3217341]\n\tGetHandleVerifier [0x00007FF7EDE25AF3+3532675]\n\tGetHandleVerifier [0x00007FF7EDE1B0F0+3489152]\n\tGetHandleVerifier [0x00007FF7EDB7E786+750614]\n\t(No symbol) [0x00007FF7EDA5376F]\n\t(No symbol) [0x00007FF7EDA4EB24]\n\t(No symbol) [0x00007FF7EDA4ECB2]\n\t(No symbol) [0x00007FF7EDA3E17F]\n\tBaseThreadInitThunk [0x00007FFCA61A257D+29]\n\tRtlUserThreadStart [0x00007FFCA82EAF28+40]\n"
     ]
    }
   ],
   "source": [
    "from selenium.webdriver.common.by import By\n",
    "url = \"https://www.yes24.com/Product/Category/BestSeller?categoryNumber=001&pageNumber=1&pageSize=24\"\n",
    "browser.get(url)"
   ]
  },
  {
   "cell_type": "code",
   "execution_count": null,
   "metadata": {},
   "outputs": [
    {
     "name": "stdout",
     "output_type": "stream",
     "text": [
      "https://www.yes24.com/Product/Goods/125557465\n",
      "https://www.yes24.com/Product/Goods/128266166\n",
      "https://www.yes24.com/Product/Goods/124999476\n",
      "https://www.yes24.com/Product/Goods/123930880\n",
      "https://www.yes24.com/Product/Goods/124225606\n",
      "https://www.yes24.com/Product/Goods/127094902\n",
      "https://www.yes24.com/Product/Goods/128133897\n",
      "https://www.yes24.com/Product/Goods/104663596\n",
      "https://www.yes24.com/Product/Goods/123930891\n",
      "https://www.yes24.com/Product/Goods/117014613\n",
      "https://www.yes24.com/Product/Goods/124043812\n",
      "https://www.yes24.com/Product/Goods/124043802\n",
      "https://www.yes24.com/Product/Goods/126511412\n",
      "https://www.yes24.com/Product/Goods/126845471\n",
      "https://www.yes24.com/Product/Goods/126702038\n",
      "https://www.yes24.com/Product/Goods/125295101\n",
      "https://www.yes24.com/Product/Goods/126516935\n",
      "https://www.yes24.com/Product/Goods/126590468\n",
      "https://www.yes24.com/Product/Goods/124539805\n",
      "https://www.yes24.com/Product/Goods/8759796\n",
      "https://www.yes24.com/Product/Goods/125576919\n",
      "https://www.yes24.com/Product/Goods/122120495\n",
      "https://www.yes24.com/Product/Goods/96547408\n",
      "https://www.yes24.com/Product/Goods/123675187\n"
     ]
    }
   ],
   "source": [
    "# 1페이지 링크 데이터 전부 수집\n",
    "### 한 개의 베스트 셀러 링크 수집\n",
    "browser.find_element(By.CLASS_NAME, \"gd_name\").get_attribute('href')\n",
    "\n",
    "### 1페이지 전체의 링크 데이터\n",
    "# browser.find_element(By.CLASS_NAME, \"gd_name\") # element: 요소\n",
    "dates = browser.find_elements(By.CLASS_NAME, \"gd_name\") # elements: 리스트\n",
    "\n",
    "for i in dates:\n",
    "    print(i.get_attribute('href'))\n",
    "    \n",
    "    \n",
    "#  <a class=\"gd_name\" href=\"/Product/Goods/128266166\" onclick=\"wiseLogV2('BS', '001_005_001', ''); \">너에게 들려주는 단단한 말</a>"
   ]
  },
  {
   "cell_type": "code",
   "execution_count": 11,
   "metadata": {},
   "outputs": [
    {
     "name": "stdout",
     "output_type": "stream",
     "text": [
      "********** 현재 1 페이지 수집 중 입니다. **********\n",
      "********** 현재 2 페이지 수집 중 입니다. **********\n",
      "********** 현재 3 페이지 수집 중 입니다. **********\n",
      "['https://www.yes24.com/Product/Goods/128266166', 'https://www.yes24.com/Product/Goods/125557465', 'https://www.yes24.com/Product/Goods/124999476', 'https://www.yes24.com/Product/Goods/104663596', 'https://www.yes24.com/Product/Goods/128133897', 'https://www.yes24.com/Product/Goods/124225606', 'https://www.yes24.com/Product/Goods/123930880', 'https://www.yes24.com/Product/Goods/127094902', 'https://www.yes24.com/Product/Goods/123930891', 'https://www.yes24.com/Product/Goods/117014613', 'https://www.yes24.com/Product/Goods/124043812', 'https://www.yes24.com/Product/Goods/126511412', 'https://www.yes24.com/Product/Goods/124043802', 'https://www.yes24.com/Product/Goods/126845471', 'https://www.yes24.com/Product/Goods/125295101', 'https://www.yes24.com/Product/Goods/126702038', 'https://www.yes24.com/Product/Goods/126516935', 'https://www.yes24.com/Product/Goods/126590468', 'https://www.yes24.com/Product/Goods/8759796', 'https://www.yes24.com/Product/Goods/124539805', 'https://www.yes24.com/Product/Goods/129043527', 'https://www.yes24.com/Product/Goods/96547408', 'https://www.yes24.com/Product/Goods/122120495', 'https://www.yes24.com/Product/Goods/125576919', 'https://www.yes24.com/Product/Goods/123675187', 'https://www.yes24.com/Product/Goods/125969665', 'https://www.yes24.com/Product/Goods/125992096', 'https://www.yes24.com/Product/Goods/127098745', 'https://www.yes24.com/Product/Goods/67362730', 'https://www.yes24.com/Product/Goods/101864763', 'https://www.yes24.com/Product/Goods/127050264', 'https://www.yes24.com/Product/Goods/128251777', 'https://www.yes24.com/Product/Goods/128829285', 'https://www.yes24.com/Product/Goods/124702605', 'https://www.yes24.com/Product/Goods/7320104', 'https://www.yes24.com/Product/Goods/121826324', 'https://www.yes24.com/Product/Goods/128917300', 'https://www.yes24.com/Product/Goods/28995741', 'https://www.yes24.com/Product/Goods/128702347', 'https://www.yes24.com/Product/Goods/128913049', 'https://www.yes24.com/Product/Goods/128196803', 'https://www.yes24.com/Product/Goods/128710948', 'https://www.yes24.com/Product/Goods/128869414', 'https://www.yes24.com/Product/Goods/128182633', 'https://www.yes24.com/Product/Goods/128218178', 'https://www.yes24.com/Product/Goods/124219505', 'https://www.yes24.com/Product/Goods/126670771', 'https://www.yes24.com/Product/Goods/128869555', 'https://www.yes24.com/Product/Goods/128849999', 'https://www.yes24.com/Product/Goods/127095422', 'https://www.yes24.com/Product/Goods/122090360', 'https://www.yes24.com/Product/Goods/28995747', 'https://www.yes24.com/Product/Goods/123400303', 'https://www.yes24.com/Product/Goods/125117836', 'https://www.yes24.com/Product/Goods/125384743', 'https://www.yes24.com/Product/Goods/127095428', 'https://www.yes24.com/Product/Goods/125448202', 'https://www.yes24.com/Product/Goods/127012688', 'https://www.yes24.com/Product/Goods/125971089', 'https://www.yes24.com/Product/Goods/91868954', 'https://www.yes24.com/Product/Goods/124472824', 'https://www.yes24.com/Product/Goods/116467955', 'https://www.yes24.com/Product/Goods/127086686', 'https://www.yes24.com/Product/Goods/129119200', 'https://www.yes24.com/Product/Goods/121911671', 'https://www.yes24.com/Product/Goods/125806618', 'https://www.yes24.com/Product/Goods/119458052', 'https://www.yes24.com/Product/Goods/118578901', 'https://www.yes24.com/Product/Goods/127044545', 'https://www.yes24.com/Product/Goods/128945390', 'https://www.yes24.com/Product/Goods/2312211', 'https://www.yes24.com/Product/Goods/117933045']\n"
     ]
    }
   ],
   "source": [
    "# 3페이지까지의 링크 데이터 전부 수집\n",
    "# https://www.yes24.com/Product/Category/BestSeller?categoryNumber=001&pageNumber=1&pageSize=24\n",
    "# https://www.yes24.com/Product/Category/BestSeller?categoryNumber=001&pageNumber=2&pageSize=24\n",
    "# https://www.yes24.com/Product/Category/BestSeller?categoryNumber=001&pageNumber=3&pageSize=24\n",
    "\n",
    "import time\n",
    "\n",
    "link_list = []\n",
    "for i in range(1, 4):\n",
    "    print(\"*\" * 10, f\"현재 {i} 페이지 수집 중 입니다.\", \"*\" * 10 )\n",
    "    \n",
    "    url = f\"https://www.yes24.com/Product/Category/BestSeller?categoryNumber=001&pageNumber={i}&pageSize=24\"\n",
    "    browser.get(url)\n",
    "\n",
    "    browser.find_element(By.CLASS_NAME, \"gd_name\").get_attribute(\"href\")\n",
    "    ### 1페이지 전체의 링크 데이터\n",
    "    # browser.find_element(By.CLASS_NAME, \"gd_name\") # element: 요소\n",
    "    dates = browser.find_elements(By.CLASS_NAME, \"gd_name\")  # elements: 리스트\n",
    "\n",
    "    for i in dates:\n",
    "        link = i.get_attribute(\"href\") \n",
    "        link_list.append(link)\n",
    "        \n",
    "    time.sleep(3)\n",
    "    \n",
    "print(link_list)"
   ]
  },
  {
   "cell_type": "code",
   "execution_count": 12,
   "metadata": {},
   "outputs": [
    {
     "data": {
      "text/plain": [
       "72"
      ]
     },
     "execution_count": 12,
     "metadata": {},
     "output_type": "execute_result"
    }
   ],
   "source": [
    "len(link_list)"
   ]
  },
  {
   "cell_type": "code",
   "execution_count": 40,
   "metadata": {},
   "outputs": [
    {
     "data": {
      "text/plain": [
       "('너에게 들려주는 단단한 말',\n",
       " '김종원 저',\n",
       " '퍼스트펭귄',\n",
       " '2024년 07월 10일',\n",
       " '10.0',\n",
       " '8',\n",
       " '205,758',\n",
       " '18,000',\n",
       " '1',\n",
       " <re.Match object; span=(0, 1), match='1'>)"
      ]
     },
     "execution_count": 40,
     "metadata": {},
     "output_type": "execute_result"
    }
   ],
   "source": [
    "# for link in link_list:\n",
    "#     # 상세 페이지로 이동\n",
    "#     browser.get(link)\n",
    "import re\n",
    "browser.get(link_list[0])\n",
    "\n",
    "title = browser.find_element(By.CLASS_NAME, \"gd_name\").text\n",
    "author = browser.find_element(By.CLASS_NAME, \"gd_auth\").text\n",
    "publisher = browser.find_element(By.CLASS_NAME, \"gd_pub\").text\n",
    "publishing = browser.find_element(By.CLASS_NAME, \"gd_date\").text\n",
    "rating = browser.find_element(By.CLASS_NAME, \"yes_b\").text\n",
    "reviews = browser.find_element(By.CLASS_NAME, \"txC_blue\").text\n",
    "sales = browser.find_element(By.CLASS_NAME, \"gd_sellNum\").text.split(\" \")[2]\n",
    "price = browser.find_element(By.CLASS_NAME, \"yes_m\").text[:-1]\n",
    "ranking = browser.find_element(By.CLASS_NAME, \"gd_best\").text.split(\" | \")[0].split(\" \")[2][:-1]\n",
    "a = browser.find_element(By.CLASS_NAME, \"gd_best\").text.split(\" | \")[-1].split(\" \")[-1]\n",
    "ranking_weeks = re.search(r'\\d+', a)\n",
    "# ranking_weeks = browser.find_element(By.CLASS_NAME, \"gd_best\").text.split(\" | \")[-1].split(\" \")[-1]\n",
    "\n",
    "title, author, publisher, publishing, rating, reviews, sales, price, ranking, ranking_weeks"
   ]
  },
  {
   "cell_type": "code",
   "execution_count": 45,
   "metadata": {},
   "outputs": [
    {
     "name": "stdout",
     "output_type": "stream",
     "text": [
      "invalid literal for int() with base 10: '예약판매'\n"
     ]
    }
   ],
   "source": [
    "# 데이터 베이스 연동 후 -> 수집한 데이터를 DB에 저장 (csv)\n",
    "import pymysql \n",
    "import time\n",
    "import re\n",
    "from datetime import datetime\n",
    "\n",
    "conn = pymysql.connect(\n",
    "    host=\"mysqloz.mysql.database.azure.com\",\n",
    "    user=\"ozcoding\",\n",
    "    password=\"qwe123!@#\",\n",
    "    db=\"yes24\",\n",
    "    charset=\"utf8mb4\",\n",
    "    cursorclass=pymysql.cursors.DictCursor,\n",
    ")\n",
    "try:\n",
    "    with conn.cursor() as cursor:\n",
    "        for link in link_list:\n",
    "            browser.get(link)\n",
    "\n",
    "            title = browser.find_element(By.CLASS_NAME, \"gd_name\").text\n",
    "            author = browser.find_element(By.CLASS_NAME, \"gd_auth\").text\n",
    "            publisher = browser.find_element(By.CLASS_NAME, \"gd_pub\").text\n",
    "\n",
    "            # 2024년 07월 12일 -> 2024-07-12\n",
    "            publishing = browser.find_element(By.CLASS_NAME, \"gd_date\").text\n",
    "\n",
    "            match = re.search(r'(\\d+)년 (\\d+)월 (\\d+)일', publishing)\n",
    "\n",
    "            if match:\n",
    "                year, month, day = match.groups()\n",
    "                data_obj = datetime(int(year), int(month), int(day))\n",
    "                publishing = data_obj.strftime(\"%Y-%m-%d\")\n",
    "            else:\n",
    "                publishing = \"2024-07-01\"\n",
    "\n",
    "            rating = browser.find_element(By.CLASS_NAME, \"yes_b\").text\n",
    "\n",
    "            review = browser.find_element(By.CLASS_NAME, \"txC_blue\").text\n",
    "            review = int(review.replace(\",\", \"\"))\n",
    "\n",
    "            sales = browser.find_element(By.CLASS_NAME, \"gd_sellNum\").text.split(\" \")[2]\n",
    "            sales = int(sales.replace(\",\", \"\"))\n",
    "\n",
    "            price = browser.find_element(By.CLASS_NAME, \"yes_m\").text[:-1]\n",
    "            price = int(price.replace(\",\", \"\"))\n",
    "\n",
    "            full_text = browser.find_element(By.CLASS_NAME, \"gd_best\").text\n",
    "            parts = full_text.split(\" | \")\n",
    "\n",
    "            if len(parts) == 1:\n",
    "                ranking = 0\n",
    "                ranking_weeks = 0\n",
    "            else:\n",
    "                try:\n",
    "                    ranking_part = parts[0]\n",
    "                    ranking = ''.join(filter(str.isdigit, ranking_part)) # 숫자만 추춢\n",
    "                except:\n",
    "                    ranking = 0\n",
    "\n",
    "                try: \n",
    "                    # 국내도서 top20 3주\n",
    "                    ranking_weeks_part = parts[1]\n",
    "                    ranking_weeks = ''.join(filter(str.isdigit, ranking_weeks.split()[-1]))\n",
    "                except:\n",
    "                    ranking_weeks = 0\n",
    "\n",
    "            # ranking = browser.find_element(By.CLASS_NAME, \"gd_best\").text.split(\" | \")[0].split(\" \")[2][:-1]\n",
    "            \n",
    "            \n",
    "            # ranking_weeks = browser.find_element(By.CLASS_NAME, \"gd_best\").text.split(\" | \")[1].split(\" \")[2][:-1]\n",
    "\n",
    "            sql = \"\"\"INSERT INTO Books (\n",
    "                title, author, publisher, publishing, rating, review, sales, price, ranking, ranking_weeks\n",
    "                )\n",
    "                VALUES(\n",
    "                    %s, %s, %s, %s, %s, %s, %s, %s, %s, %s\n",
    "                )\n",
    "                \"\"\"\n",
    "\n",
    "            cursor.execute(\n",
    "                sql,\n",
    "                (\n",
    "                    title,\n",
    "                    author,\n",
    "                    publisher,\n",
    "                    publishing,\n",
    "                    rating,\n",
    "                    review,\n",
    "                    sales,\n",
    "                    price,\n",
    "                    ranking,\n",
    "                    ranking_weeks,\n",
    "                ),\n",
    "            )\n",
    "            conn.commit()\n",
    "            time.sleep(1)\n",
    "except Exception as e:\n",
    "    print(e)"
   ]
  }
 ],
 "metadata": {
  "kernelspec": {
   "display_name": "Python 3",
   "language": "python",
   "name": "python3"
  },
  "language_info": {
   "codemirror_mode": {
    "name": "ipython",
    "version": 3
   },
   "file_extension": ".py",
   "mimetype": "text/x-python",
   "name": "python",
   "nbconvert_exporter": "python",
   "pygments_lexer": "ipython3",
   "version": "3.11.9"
  }
 },
 "nbformat": 4,
 "nbformat_minor": 2
}
