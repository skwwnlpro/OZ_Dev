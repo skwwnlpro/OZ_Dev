{
 "cells": [
  {
   "cell_type": "markdown",
   "metadata": {},
   "source": [
    "함수 실행 시간을 측정하는 데코레이터 timer_decorator를 작성하세요. \n",
    "\n",
    "임의의 함수가 실행되는 시간을 측정하여 \"함수 실행 시간: x.xx초\" 형태로 출력하세요."
   ]
  },
  {
   "cell_type": "code",
   "execution_count": 7,
   "metadata": {},
   "outputs": [
    {
     "name": "stdout",
     "output_type": "stream",
     "text": [
      "함수를 실행합니다.\n",
      "Hi\n",
      "함수 실행 시간: 2.000108003616333\n"
     ]
    }
   ],
   "source": [
    "import time\n",
    "\n",
    "def timer_decorator(function):\n",
    "    def wrapper():\n",
    "        print(\"함수를 실행합니다.\")\n",
    "        start = time.time()\n",
    "        function()\n",
    "        end = time.time()\n",
    "        print(f\"함수 실행 시간: {end-start}\")\n",
    "    return wrapper \n",
    "      \n",
    "@timer_decorator\n",
    "def temp():\n",
    "    print(\"Hi\")\n",
    "    time.sleep(2)\n",
    "    \n",
    "temp()"
   ]
  }
 ],
 "metadata": {
  "kernelspec": {
   "display_name": ".venv",
   "language": "python",
   "name": "python3"
  },
  "language_info": {
   "codemirror_mode": {
    "name": "ipython",
    "version": 3
   },
   "file_extension": ".py",
   "mimetype": "text/x-python",
   "name": "python",
   "nbconvert_exporter": "python",
   "pygments_lexer": "ipython3",
   "version": "3.11.9"
  }
 },
 "nbformat": 4,
 "nbformat_minor": 2
}
