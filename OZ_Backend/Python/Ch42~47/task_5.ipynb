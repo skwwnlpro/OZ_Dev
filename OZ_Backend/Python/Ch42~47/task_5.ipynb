{
 "cells": [
  {
   "cell_type": "markdown",
   "metadata": {},
   "source": [
    "[문제]\n",
    "\n",
    "'Account' 클래스를 작성하세요. \n",
    "\n",
    "이 클래스는 소유자(owner)와 잔액(balance)을 속성으로 가지며, 잔액은 프라이빗 변수로 선언합니다. \n",
    "\n",
    "'deposit'와 'withdraw' 두 개의 메소드를 통해 잔액을 조작할 수 있도록 하세요. \n",
    "\n",
    "이 때, 잔액은 음수가 될 수 없도록 체크해야 합니다. 'Account' 객체를 생성하고,<br>\n",
    "입금 및 출금 작업을 시뮬레이션한 후, 최종 잔액을 출력하세요."
   ]
  },
  {
   "cell_type": "code",
   "execution_count": 8,
   "metadata": {},
   "outputs": [
    {
     "name": "stdout",
     "output_type": "stream",
     "text": [
      "초기 금액은 100원 입니다.\n",
      "100원을 입금했습니다.\n",
      "잔액이 부족합니다.\n",
      "잔액은 200원입니다.\n"
     ]
    }
   ],
   "source": [
    "class Account:\n",
    "    def __init__(self, owner, balance):\n",
    "        self.owner = owner\n",
    "        self.__balance = balance\n",
    "        print(f\"초기 금액은 {self.__balance}원 입니다.\")\n",
    "\n",
    "    def deposit(self, depoist_amounts):\n",
    "        self.__balance += depoist_amounts\n",
    "        print(f\"{depoist_amounts}원을 입금했습니다.\")\n",
    "\n",
    "    def withdraw(self, with_amounts):\n",
    "        if self.__balance - with_amounts < 0:\n",
    "            print(\"잔액이 부족합니다.\")\n",
    "        else:\n",
    "            self.__balance -= with_amounts\n",
    "            print(f\"{with_amounts}원을 출금했습니다.\")\n",
    "    \n",
    "    def left_amounts(self):\n",
    "        print(f\"잔액은 {self.__balance}원입니다.\")\n",
    "\n",
    "a = Account(\"me\", 100)\n",
    "a.deposit(100)\n",
    "a.withdraw(300)\n",
    "a.left_amounts()"
   ]
  }
 ],
 "metadata": {
  "kernelspec": {
   "display_name": ".venv",
   "language": "python",
   "name": "python3"
  },
  "language_info": {
   "codemirror_mode": {
    "name": "ipython",
    "version": 3
   },
   "file_extension": ".py",
   "mimetype": "text/x-python",
   "name": "python",
   "nbconvert_exporter": "python",
   "pygments_lexer": "ipython3",
   "version": "3.11.9"
  }
 },
 "nbformat": 4,
 "nbformat_minor": 2
}
