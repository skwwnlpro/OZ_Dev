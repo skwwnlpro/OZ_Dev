{
 "cells": [
  {
   "cell_type": "markdown",
   "metadata": {},
   "source": [
    "사용자로부터 3개의 숫자를 입력받아, 이를 튜플로 만든 후 최소값과 최대값을 출력하는 함수 min_max를 작성하세요."
   ]
  },
  {
   "cell_type": "markdown",
   "metadata": {},
   "source": [
    "```python\n",
    "a, b, c = map(int, input(\"\").split(\" \"))\n",
    "\n",
    "def min_max(a, b, c):\n",
    "    okTuple = a, b, c\n",
    "    print(\"최소 값은 ? \", min(okTuple))\n",
    "    print(\"최대 값은 ? \", max(okTuple))\n",
    "    \n",
    "min_max(a, b, c)\n",
    "\n",
    "```"
   ]
  }
 ],
 "metadata": {
  "language_info": {
   "name": "python"
  }
 },
 "nbformat": 4,
 "nbformat_minor": 2
}
