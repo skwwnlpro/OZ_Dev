{
 "cells": [
  {
   "cell_type": "markdown",
   "metadata": {},
   "source": [
    "두 문자열을 받아서 긴 문자열을 반환하는 함수 longer_string을 작성하세요. 만약 두 문자열의 길이가 같다면, 첫 번째 문자열을 반환하세요."
   ]
  },
  {
   "cell_type": "markdown",
   "metadata": {},
   "source": [
    "```python\n",
    "a, b = input(\":\").split(\" \")\n",
    "def longer_string(a, b):\n",
    "    if len(a) == len(b): return a\n",
    "    if len(a) > len(b): return a\n",
    "    else : return b\n",
    "    \n",
    "print(longer_string(a, b))\n",
    "```"
   ]
  }
 ],
 "metadata": {
  "language_info": {
   "name": "python"
  }
 },
 "nbformat": 4,
 "nbformat_minor": 2
}
