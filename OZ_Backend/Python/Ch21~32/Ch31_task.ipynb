{
 "cells": [
  {
   "cell_type": "markdown",
   "metadata": {},
   "source": [
    "문자열 리스트를 받아, 각 문자열의 길이를 출력하는 함수 print_lengths를 작성하세요."
   ]
  },
  {
   "cell_type": "markdown",
   "metadata": {},
   "source": [
    "```python\n",
    "def print_lengths(strings):\n",
    "    a = []\n",
    "    for string in strings:\n",
    "        a.append(len(string))\n",
    "    print(a)\n",
    "\n",
    "strings = input(\" : \").split(' ')\n",
    "print_lengths(strings)\n",
    "```"
   ]
  }
 ],
 "metadata": {
  "language_info": {
   "name": "python"
  }
 },
 "nbformat": 4,
 "nbformat_minor": 2
}
